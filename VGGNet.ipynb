{
 "cells": [
  {
   "cell_type": "markdown",
   "metadata": {},
   "source": [
    "<h2>VGG Network</h2>\n",
    "<body>\n",
    "<br>\n",
    "vgg network는 신경망의 깊이가 모델의 성능에 미치는 영향을 조사하기 위해 단순한 연산만을 가지고 모델을 구성하였다.<br>\n",
    "3x3합성곱, max pooling, fully connected layer 이 세가지 연산으로만 네트워크 구성.<br>\n",
    "\n",
    "</body>"
   ]
  },
  {
   "cell_type": "code",
   "execution_count": 5,
   "metadata": {},
   "outputs": [],
   "source": [
    "import torch.nn as nn"
   ]
  },
  {
   "cell_type": "code",
   "execution_count": 6,
   "metadata": {},
   "outputs": [],
   "source": [
    "def conv_2_block(in_dim,out_dim):\n",
    "    model = nn.Sequential(\n",
    "    nn.Conv2d(in_dim,out_dim,kernel_size=3,padding=1),\n",
    "    nn.ReLU(),\n",
    "    nn.Conv2d(out_dim,out_dim,kernel_size=3,padding=1),\n",
    "    nn.ReLU(),\n",
    "    nn.MaxPool2d(2,2)\n",
    "    )\n",
    "    return model"
   ]
  },
  {
   "cell_type": "code",
   "execution_count": 7,
   "metadata": {},
   "outputs": [],
   "source": [
    "def conv_3_block(in_dim,out_dim):\n",
    "    model = nn.Sequential(\n",
    "    nn.Conv2d(in_dim,out_dim,kernel_size=3,padding=1),\n",
    "    nn.ReLU(),\n",
    "    nn.Conv2d(in_dim,out_dim,kernel_size=3,padding=1),\n",
    "    nn.ReLU(),\n",
    "    nn.Conv2d(out_dim,out_dim,kernel_size=3,padding=1),\n",
    "    nn.ReLU(),\n",
    "    nn.MaxPool2d(2,2)\n",
    "    )\n",
    "    return model"
   ]
  },
  {
   "cell_type": "markdown",
   "metadata": {},
   "source": [
    "위의 함수를 이용하여 16개의 레이어를 가진 전체 모델 만들기"
   ]
  },
  {
   "cell_type": "code",
   "execution_count": 8,
   "metadata": {},
   "outputs": [],
   "source": [
    "\n",
    "class VGG(nn.Module):\n",
    "    def __init__(self,base_dim,num_classes=2):\n",
    "        super(VGG,self).__init__()\n",
    "        self.feature = nn.Sequential(\n",
    "        conv_2_block(3,base_dim),\n",
    "        conv_2_block(base_dim,2*base_dim),\n",
    "        conv_3_block(2*base_dim,4*base_dim),\n",
    "        conv_3_block(4*base_dim,8*base_dim),\n",
    "        conv_3_block(8*base_dim,8*base_dim)\n",
    "        )\n",
    "        self.fc_layer=nn.Sequential(\n",
    "        nn.Linear(8*base_dim*7*7,100),\n",
    "        nn.ReLU(True),\n",
    "        nn.Linear(100,20),\n",
    "        nn.ReLU(True),\n",
    "        nn.Linear(20,num_classes),\n",
    "        )\n",
    "    def forward(self,x):\n",
    "        x = self.feature(x)\n",
    "        x = x.view(x.size(0),-1)\n",
    "        x = x.fc_layer(x)\n",
    "        return x"
   ]
  },
  {
   "cell_type": "markdown",
   "metadata": {},
   "source": [
    "<h2>좀 더 flexible하게 구현하기</h2>"
   ]
  },
  {
   "cell_type": "code",
   "execution_count": 11,
   "metadata": {},
   "outputs": [
    {
     "name": "stdout",
     "output_type": "stream",
     "text": [
      "tensor([[[[0.4633, 0.1037, 0.8104]]]])\n"
     ]
    }
   ],
   "source": [
    "import torch\n",
    "a = torch.randn(1,1,1,3)\n",
    "print(a)"
   ]
  },
  {
   "cell_type": "code",
   "execution_count": 14,
   "metadata": {},
   "outputs": [
    {
     "name": "stdout",
     "output_type": "stream",
     "text": [
      "tensor(0.4591)\n"
     ]
    }
   ],
   "source": [
    "\n",
    "print(torch.mean(a))"
   ]
  },
  {
   "cell_type": "code",
   "execution_count": null,
   "metadata": {},
   "outputs": [],
   "source": []
  }
 ],
 "metadata": {
  "kernelspec": {
   "display_name": "PyTorch",
   "language": "python",
   "name": "pytorch"
  },
  "language_info": {
   "codemirror_mode": {
    "name": "ipython",
    "version": 3
   },
   "file_extension": ".py",
   "mimetype": "text/x-python",
   "name": "python",
   "nbconvert_exporter": "python",
   "pygments_lexer": "ipython3",
   "version": "3.7.2"
  }
 },
 "nbformat": 4,
 "nbformat_minor": 2
}
